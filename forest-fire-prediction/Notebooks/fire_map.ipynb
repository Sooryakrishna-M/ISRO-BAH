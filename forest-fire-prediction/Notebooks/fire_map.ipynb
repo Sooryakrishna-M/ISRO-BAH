{
 "cells": [
  {
   "cell_type": "code",
   "execution_count": null,
   "id": "3653fb85",
   "metadata": {},
   "outputs": [],
   "source": [
    "import pandas as pd\n",
    "import folium\n",
    "from folium.plugins import HeatMap\n",
    "\n",
    "# Load and preprocess\n",
    "df = pd.read_csv(\"data/processed/cleaned_data.csv\")\n",
    "df_high_risk = df[df['high_risk'] == 1]\n",
    "\n",
    "# Create map\n",
    "m = folium.Map(location=[20.5937, 78.9629], zoom_start=5)\n",
    "heat_data = df_high_risk[['latitude', 'longitude']].values.tolist()\n",
    "HeatMap(heat_data).add_to(m)\n",
    "\n",
    "# Save map\n",
    "m.save(\"fire_risk_heatmap.html\")\n"
   ]
  }
 ],
 "metadata": {
  "language_info": {
   "name": "python"
  }
 },
 "nbformat": 4,
 "nbformat_minor": 5
}
